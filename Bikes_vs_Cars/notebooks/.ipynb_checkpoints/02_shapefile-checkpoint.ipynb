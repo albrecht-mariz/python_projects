{
 "cells": [
  {
   "cell_type": "markdown",
   "metadata": {},
   "source": [
    "### Import modules and setup shapely"
   ]
  },
  {
   "cell_type": "code",
   "execution_count": 1,
   "metadata": {},
   "outputs": [],
   "source": [
    "# Import necessary modules\n",
    "import geopandas as gpd\n",
    "import pandas as pd\n",
    "from shapely.geometry import Point, Polygon, LineString\n",
    "import shapely.speedups"
   ]
  },
  {
   "cell_type": "code",
   "execution_count": 2,
   "metadata": {},
   "outputs": [],
   "source": [
    "shapely.speedups.enable()"
   ]
  },
  {
   "cell_type": "markdown",
   "metadata": {},
   "source": [
    "### Files address"
   ]
  },
  {
   "cell_type": "code",
   "execution_count": 3,
   "metadata": {},
   "outputs": [],
   "source": [
    "# Set filepath (fix path relative to yours)\n",
    "berlin_file = \"../data/raw/berlin_shapefiles/gis_osm_roads_free_1.shp\"\n",
    "accidents_file = \"../data/output/bike_after_step_01.csv\""
   ]
  },
  {
   "cell_type": "code",
   "execution_count": 4,
   "metadata": {},
   "outputs": [],
   "source": [
    "crs = {'init': 'epsg:4326'}\n",
    "#crs = {'init': 'epsg:4326', 'no_defs': True}\n",
    "#crs = {\"type\" : \"crs\", \"epsg\" : \"4326\"}"
   ]
  },
  {
   "cell_type": "markdown",
   "metadata": {},
   "source": [
    "### Import Berlin roads into GeoDataFrame "
   ]
  },
  {
   "cell_type": "code",
   "execution_count": 5,
   "metadata": {},
   "outputs": [],
   "source": [
    "# Read file using gpd.read_file()\n",
    "berlin_gdf = gpd.read_file(berlin_file, crs = crs)"
   ]
  },
  {
   "cell_type": "code",
   "execution_count": 6,
   "metadata": {},
   "outputs": [
    {
     "data": {
      "text/html": [
       "<div>\n",
       "<style scoped>\n",
       "    .dataframe tbody tr th:only-of-type {\n",
       "        vertical-align: middle;\n",
       "    }\n",
       "\n",
       "    .dataframe tbody tr th {\n",
       "        vertical-align: top;\n",
       "    }\n",
       "\n",
       "    .dataframe thead th {\n",
       "        text-align: right;\n",
       "    }\n",
       "</style>\n",
       "<table border=\"1\" class=\"dataframe\">\n",
       "  <thead>\n",
       "    <tr style=\"text-align: right;\">\n",
       "      <th></th>\n",
       "      <th>osm_id</th>\n",
       "      <th>code</th>\n",
       "      <th>fclass</th>\n",
       "      <th>name</th>\n",
       "      <th>ref</th>\n",
       "      <th>oneway</th>\n",
       "      <th>maxspeed</th>\n",
       "      <th>layer</th>\n",
       "      <th>bridge</th>\n",
       "      <th>tunnel</th>\n",
       "      <th>geometry</th>\n",
       "    </tr>\n",
       "  </thead>\n",
       "  <tbody>\n",
       "    <tr>\n",
       "      <th>0</th>\n",
       "      <td>4045150</td>\n",
       "      <td>5122</td>\n",
       "      <td>residential</td>\n",
       "      <td>Waldstraße</td>\n",
       "      <td>None</td>\n",
       "      <td>B</td>\n",
       "      <td>50</td>\n",
       "      <td>0</td>\n",
       "      <td>F</td>\n",
       "      <td>F</td>\n",
       "      <td>LINESTRING (13.60517 52.37342, 13.60550 52.373...</td>\n",
       "    </tr>\n",
       "    <tr>\n",
       "      <th>1</th>\n",
       "      <td>4045194</td>\n",
       "      <td>5122</td>\n",
       "      <td>residential</td>\n",
       "      <td>Ursula-Goetze-Straße</td>\n",
       "      <td>None</td>\n",
       "      <td>B</td>\n",
       "      <td>30</td>\n",
       "      <td>0</td>\n",
       "      <td>F</td>\n",
       "      <td>F</td>\n",
       "      <td>LINESTRING (13.53135 52.49262, 13.53153 52.49392)</td>\n",
       "    </tr>\n",
       "    <tr>\n",
       "      <th>2</th>\n",
       "      <td>4045220</td>\n",
       "      <td>5122</td>\n",
       "      <td>residential</td>\n",
       "      <td>Hönower Straße</td>\n",
       "      <td>None</td>\n",
       "      <td>B</td>\n",
       "      <td>30</td>\n",
       "      <td>0</td>\n",
       "      <td>F</td>\n",
       "      <td>F</td>\n",
       "      <td>LINESTRING (13.52783 52.49043, 13.52639 52.489...</td>\n",
       "    </tr>\n",
       "    <tr>\n",
       "      <th>3</th>\n",
       "      <td>4045223</td>\n",
       "      <td>5122</td>\n",
       "      <td>residential</td>\n",
       "      <td>Gundelfinger Straße</td>\n",
       "      <td>None</td>\n",
       "      <td>F</td>\n",
       "      <td>30</td>\n",
       "      <td>0</td>\n",
       "      <td>F</td>\n",
       "      <td>F</td>\n",
       "      <td>LINESTRING (13.52390 52.48281, 13.52450 52.484...</td>\n",
       "    </tr>\n",
       "    <tr>\n",
       "      <th>4</th>\n",
       "      <td>4045243</td>\n",
       "      <td>5113</td>\n",
       "      <td>primary</td>\n",
       "      <td>Frankfurter Allee</td>\n",
       "      <td>B 1;B 5</td>\n",
       "      <td>F</td>\n",
       "      <td>50</td>\n",
       "      <td>0</td>\n",
       "      <td>F</td>\n",
       "      <td>F</td>\n",
       "      <td>LINESTRING (13.45421 52.51571, 13.45439 52.515...</td>\n",
       "    </tr>\n",
       "  </tbody>\n",
       "</table>\n",
       "</div>"
      ],
      "text/plain": [
       "    osm_id  code       fclass                  name      ref oneway  maxspeed  \\\n",
       "0  4045150  5122  residential            Waldstraße     None      B        50   \n",
       "1  4045194  5122  residential  Ursula-Goetze-Straße     None      B        30   \n",
       "2  4045220  5122  residential        Hönower Straße     None      B        30   \n",
       "3  4045223  5122  residential   Gundelfinger Straße     None      F        30   \n",
       "4  4045243  5113      primary     Frankfurter Allee  B 1;B 5      F        50   \n",
       "\n",
       "   layer bridge tunnel                                           geometry  \n",
       "0      0      F      F  LINESTRING (13.60517 52.37342, 13.60550 52.373...  \n",
       "1      0      F      F  LINESTRING (13.53135 52.49262, 13.53153 52.49392)  \n",
       "2      0      F      F  LINESTRING (13.52783 52.49043, 13.52639 52.489...  \n",
       "3      0      F      F  LINESTRING (13.52390 52.48281, 13.52450 52.484...  \n",
       "4      0      F      F  LINESTRING (13.45421 52.51571, 13.45439 52.515...  "
      ]
     },
     "execution_count": 6,
     "metadata": {},
     "output_type": "execute_result"
    }
   ],
   "source": [
    "berlin_gdf.head(5)"
   ]
  },
  {
   "cell_type": "code",
   "execution_count": 7,
   "metadata": {},
   "outputs": [],
   "source": [
    "berlin_gdf.geometry = berlin_gdf.geometry.squeeze()"
   ]
  },
  {
   "cell_type": "code",
   "execution_count": 8,
   "metadata": {},
   "outputs": [
    {
     "data": {
      "text/plain": [
       "<matplotlib.axes._subplots.AxesSubplot at 0x282bdb72788>"
      ]
     },
     "execution_count": 8,
     "metadata": {},
     "output_type": "execute_result"
    },
    {
     "data": {
      "image/png": "[encoded data removed]",
      "text/plain": [
       "<Figure size 432x288 with 1 Axes>"
      ]
     },
     "metadata": {
      "needs_background": "light"
     },
     "output_type": "display_data"
    }
   ],
   "source": [
    "#validate\n",
    "#berlin_gdf[berlin_gdf[\"name\"] == \"Leipziger Straße\"].plot()\n",
    "berlin_gdf.head(100).plot()"
   ]
  },
  {
   "cell_type": "markdown",
   "metadata": {},
   "source": [
    "### Import Berlin accidents into GeoDataFrame"
   ]
  },
  {
   "cell_type": "code",
   "execution_count": 9,
   "metadata": {},
   "outputs": [],
   "source": [
    "accidents_gdf = pd.read_csv(accidents_file, sep=\",\")"
   ]
  },
  {
   "cell_type": "code",
   "execution_count": 10,
   "metadata": {},
   "outputs": [
    {
     "data": {
      "text/html": [
       "<div>\n",
       "<style scoped>\n",
       "    .dataframe tbody tr th:only-of-type {\n",
       "        vertical-align: middle;\n",
       "    }\n",
       "\n",
       "    .dataframe tbody tr th {\n",
       "        vertical-align: top;\n",
       "    }\n",
       "\n",
       "    .dataframe thead th {\n",
       "        text-align: right;\n",
       "    }\n",
       "</style>\n",
       "<table border=\"1\" class=\"dataframe\">\n",
       "  <thead>\n",
       "    <tr style=\"text-align: right;\">\n",
       "      <th></th>\n",
       "      <th>Unnamed: 0</th>\n",
       "      <th>OBJECTID</th>\n",
       "      <th>ULAND</th>\n",
       "      <th>UREGBEZ</th>\n",
       "      <th>UKREIS</th>\n",
       "      <th>UGEMEINDE</th>\n",
       "      <th>UJAHR</th>\n",
       "      <th>UMONAT</th>\n",
       "      <th>USTUNDE</th>\n",
       "      <th>UWOCHENTAG</th>\n",
       "      <th>...</th>\n",
       "      <th>IstSonstige</th>\n",
       "      <th>STRZUSTAND</th>\n",
       "      <th>lon</th>\n",
       "      <th>lat</th>\n",
       "      <th>address</th>\n",
       "      <th>City</th>\n",
       "      <th>District</th>\n",
       "      <th>Street</th>\n",
       "      <th>HouseNumber</th>\n",
       "      <th>PostalCode</th>\n",
       "    </tr>\n",
       "  </thead>\n",
       "  <tbody>\n",
       "    <tr>\n",
       "      <th>0</th>\n",
       "      <td>0</td>\n",
       "      <td>112747</td>\n",
       "      <td>11</td>\n",
       "      <td>0</td>\n",
       "      <td>3</td>\n",
       "      <td>3</td>\n",
       "      <td>2018</td>\n",
       "      <td>1</td>\n",
       "      <td>15</td>\n",
       "      <td>4</td>\n",
       "      <td>...</td>\n",
       "      <td>0</td>\n",
       "      <td>1</td>\n",
       "      <td>13.403228</td>\n",
       "      <td>52.583472</td>\n",
       "      <td>{'City': 'Berlin', 'District': 'Niederschönhau...</td>\n",
       "      <td>Berlin</td>\n",
       "      <td>Niederschönhausen</td>\n",
       "      <td>Dietzgenstraße</td>\n",
       "      <td>36A</td>\n",
       "      <td>13156</td>\n",
       "    </tr>\n",
       "    <tr>\n",
       "      <th>1</th>\n",
       "      <td>1</td>\n",
       "      <td>112892</td>\n",
       "      <td>11</td>\n",
       "      <td>0</td>\n",
       "      <td>3</td>\n",
       "      <td>3</td>\n",
       "      <td>2018</td>\n",
       "      <td>1</td>\n",
       "      <td>11</td>\n",
       "      <td>5</td>\n",
       "      <td>...</td>\n",
       "      <td>0</td>\n",
       "      <td>1</td>\n",
       "      <td>13.432186</td>\n",
       "      <td>52.535255</td>\n",
       "      <td>{'City': 'Berlin', 'District': 'Prenzlauer Ber...</td>\n",
       "      <td>Berlin</td>\n",
       "      <td>Prenzlauer Berg</td>\n",
       "      <td>Greifswalder Straße</td>\n",
       "      <td>45</td>\n",
       "      <td>10405</td>\n",
       "    </tr>\n",
       "    <tr>\n",
       "      <th>2</th>\n",
       "      <td>2</td>\n",
       "      <td>112902</td>\n",
       "      <td>11</td>\n",
       "      <td>0</td>\n",
       "      <td>2</td>\n",
       "      <td>2</td>\n",
       "      <td>2018</td>\n",
       "      <td>1</td>\n",
       "      <td>8</td>\n",
       "      <td>2</td>\n",
       "      <td>...</td>\n",
       "      <td>0</td>\n",
       "      <td>0</td>\n",
       "      <td>13.470897</td>\n",
       "      <td>52.514173</td>\n",
       "      <td>{'City': 'Berlin', 'District': 'Friedrichshain...</td>\n",
       "      <td>Berlin</td>\n",
       "      <td>Friedrichshain</td>\n",
       "      <td>Frankfurter Allee</td>\n",
       "      <td>87</td>\n",
       "      <td>10247</td>\n",
       "    </tr>\n",
       "  </tbody>\n",
       "</table>\n",
       "<p>3 rows × 29 columns</p>\n",
       "</div>"
      ],
      "text/plain": [
       "   Unnamed: 0  OBJECTID  ULAND  UREGBEZ  UKREIS  UGEMEINDE  UJAHR  UMONAT  \\\n",
       "0           0    112747     11        0       3          3   2018       1   \n",
       "1           1    112892     11        0       3          3   2018       1   \n",
       "2           2    112902     11        0       2          2   2018       1   \n",
       "\n",
       "   USTUNDE  UWOCHENTAG  ...  IstSonstige  STRZUSTAND        lon        lat  \\\n",
       "0       15           4  ...            0           1  13.403228  52.583472   \n",
       "1       11           5  ...            0           1  13.432186  52.535255   \n",
       "2        8           2  ...            0           0  13.470897  52.514173   \n",
       "\n",
       "                                             address    City  \\\n",
       "0  {'City': 'Berlin', 'District': 'Niederschönhau...  Berlin   \n",
       "1  {'City': 'Berlin', 'District': 'Prenzlauer Ber...  Berlin   \n",
       "2  {'City': 'Berlin', 'District': 'Friedrichshain...  Berlin   \n",
       "\n",
       "            District               Street  HouseNumber  PostalCode  \n",
       "0  Niederschönhausen       Dietzgenstraße          36A       13156  \n",
       "1    Prenzlauer Berg  Greifswalder Straße           45       10405  \n",
       "2     Friedrichshain    Frankfurter Allee           87       10247  \n",
       "\n",
       "[3 rows x 29 columns]"
      ]
     },
     "execution_count": 10,
     "metadata": {},
     "output_type": "execute_result"
    }
   ],
   "source": [
    "accidents_gdf.head(3)"
   ]
  },
  {
   "cell_type": "code",
   "execution_count": 11,
   "metadata": {},
   "outputs": [],
   "source": [
    "geometry = [Point(xy) for xy in zip(accidents_gdf.lon, accidents_gdf.lat)]"
   ]
  },
  {
   "cell_type": "code",
   "execution_count": 12,
   "metadata": {},
   "outputs": [],
   "source": [
    "accidents_gdf = accidents_gdf.drop(['lon', 'lat'], axis=1)"
   ]
  },
  {
   "cell_type": "code",
   "execution_count": 13,
   "metadata": {},
   "outputs": [],
   "source": [
    "accidents_gdf = gpd.GeoDataFrame(accidents_gdf, geometry=geometry)\n",
    "accidents_gdf.crs = \"EPSG:4326\""
   ]
  },
  {
   "cell_type": "code",
   "execution_count": 14,
   "metadata": {},
   "outputs": [
    {
     "data": {
      "text/html": [
       "<div>\n",
       "<style scoped>\n",
       "    .dataframe tbody tr th:only-of-type {\n",
       "        vertical-align: middle;\n",
       "    }\n",
       "\n",
       "    .dataframe tbody tr th {\n",
       "        vertical-align: top;\n",
       "    }\n",
       "\n",
       "    .dataframe thead th {\n",
       "        text-align: right;\n",
       "    }\n",
       "</style>\n",
       "<table border=\"1\" class=\"dataframe\">\n",
       "  <thead>\n",
       "    <tr style=\"text-align: right;\">\n",
       "      <th></th>\n",
       "      <th>Unnamed: 0</th>\n",
       "      <th>OBJECTID</th>\n",
       "      <th>ULAND</th>\n",
       "      <th>UREGBEZ</th>\n",
       "      <th>UKREIS</th>\n",
       "      <th>UGEMEINDE</th>\n",
       "      <th>UJAHR</th>\n",
       "      <th>UMONAT</th>\n",
       "      <th>USTUNDE</th>\n",
       "      <th>UWOCHENTAG</th>\n",
       "      <th>...</th>\n",
       "      <th>IstGkfz</th>\n",
       "      <th>IstSonstige</th>\n",
       "      <th>STRZUSTAND</th>\n",
       "      <th>address</th>\n",
       "      <th>City</th>\n",
       "      <th>District</th>\n",
       "      <th>Street</th>\n",
       "      <th>HouseNumber</th>\n",
       "      <th>PostalCode</th>\n",
       "      <th>geometry</th>\n",
       "    </tr>\n",
       "  </thead>\n",
       "  <tbody>\n",
       "    <tr>\n",
       "      <th>0</th>\n",
       "      <td>0</td>\n",
       "      <td>112747</td>\n",
       "      <td>11</td>\n",
       "      <td>0</td>\n",
       "      <td>3</td>\n",
       "      <td>3</td>\n",
       "      <td>2018</td>\n",
       "      <td>1</td>\n",
       "      <td>15</td>\n",
       "      <td>4</td>\n",
       "      <td>...</td>\n",
       "      <td>0</td>\n",
       "      <td>0</td>\n",
       "      <td>1</td>\n",
       "      <td>{'City': 'Berlin', 'District': 'Niederschönhau...</td>\n",
       "      <td>Berlin</td>\n",
       "      <td>Niederschönhausen</td>\n",
       "      <td>Dietzgenstraße</td>\n",
       "      <td>36A</td>\n",
       "      <td>13156</td>\n",
       "      <td>POINT (13.40323 52.58347)</td>\n",
       "    </tr>\n",
       "    <tr>\n",
       "      <th>1</th>\n",
       "      <td>1</td>\n",
       "      <td>112892</td>\n",
       "      <td>11</td>\n",
       "      <td>0</td>\n",
       "      <td>3</td>\n",
       "      <td>3</td>\n",
       "      <td>2018</td>\n",
       "      <td>1</td>\n",
       "      <td>11</td>\n",
       "      <td>5</td>\n",
       "      <td>...</td>\n",
       "      <td>0</td>\n",
       "      <td>0</td>\n",
       "      <td>1</td>\n",
       "      <td>{'City': 'Berlin', 'District': 'Prenzlauer Ber...</td>\n",
       "      <td>Berlin</td>\n",
       "      <td>Prenzlauer Berg</td>\n",
       "      <td>Greifswalder Straße</td>\n",
       "      <td>45</td>\n",
       "      <td>10405</td>\n",
       "      <td>POINT (13.43219 52.53526)</td>\n",
       "    </tr>\n",
       "    <tr>\n",
       "      <th>2</th>\n",
       "      <td>2</td>\n",
       "      <td>112902</td>\n",
       "      <td>11</td>\n",
       "      <td>0</td>\n",
       "      <td>2</td>\n",
       "      <td>2</td>\n",
       "      <td>2018</td>\n",
       "      <td>1</td>\n",
       "      <td>8</td>\n",
       "      <td>2</td>\n",
       "      <td>...</td>\n",
       "      <td>0</td>\n",
       "      <td>0</td>\n",
       "      <td>0</td>\n",
       "      <td>{'City': 'Berlin', 'District': 'Friedrichshain...</td>\n",
       "      <td>Berlin</td>\n",
       "      <td>Friedrichshain</td>\n",
       "      <td>Frankfurter Allee</td>\n",
       "      <td>87</td>\n",
       "      <td>10247</td>\n",
       "      <td>POINT (13.47090 52.51417)</td>\n",
       "    </tr>\n",
       "  </tbody>\n",
       "</table>\n",
       "<p>3 rows × 28 columns</p>\n",
       "</div>"
      ],
      "text/plain": [
       "   Unnamed: 0  OBJECTID  ULAND  UREGBEZ  UKREIS  UGEMEINDE  UJAHR  UMONAT  \\\n",
       "0           0    112747     11        0       3          3   2018       1   \n",
       "1           1    112892     11        0       3          3   2018       1   \n",
       "2           2    112902     11        0       2          2   2018       1   \n",
       "\n",
       "   USTUNDE  UWOCHENTAG  ...  IstGkfz  IstSonstige  STRZUSTAND  \\\n",
       "0       15           4  ...        0            0           1   \n",
       "1       11           5  ...        0            0           1   \n",
       "2        8           2  ...        0            0           0   \n",
       "\n",
       "                                             address    City  \\\n",
       "0  {'City': 'Berlin', 'District': 'Niederschönhau...  Berlin   \n",
       "1  {'City': 'Berlin', 'District': 'Prenzlauer Ber...  Berlin   \n",
       "2  {'City': 'Berlin', 'District': 'Friedrichshain...  Berlin   \n",
       "\n",
       "            District               Street  HouseNumber  PostalCode  \\\n",
       "0  Niederschönhausen       Dietzgenstraße          36A       13156   \n",
       "1    Prenzlauer Berg  Greifswalder Straße           45       10405   \n",
       "2     Friedrichshain    Frankfurter Allee           87       10247   \n",
       "\n",
       "                    geometry  \n",
       "0  POINT (13.40323 52.58347)  \n",
       "1  POINT (13.43219 52.53526)  \n",
       "2  POINT (13.47090 52.51417)  \n",
       "\n",
       "[3 rows x 28 columns]"
      ]
     },
     "execution_count": 14,
     "metadata": {},
     "output_type": "execute_result"
    }
   ],
   "source": [
    "accidents_gdf.head(3)"
   ]
  },
  {
   "cell_type": "code",
   "execution_count": 15,
   "metadata": {},
   "outputs": [],
   "source": [
    "accidents_gdf.geometry = accidents_gdf.geometry.squeeze()"
   ]
  },
  {
   "cell_type": "code",
   "execution_count": 16,
   "metadata": {},
   "outputs": [
    {
     "data": {
      "text/plain": [
       "<matplotlib.axes._subplots.AxesSubplot at 0x282bdc72b48>"
      ]
     },
     "execution_count": 16,
     "metadata": {},
     "output_type": "execute_result"
    },
    {
     "data": {
      "image/png": "[encoded data removed]",
      "text/plain": [
       "<Figure size 432x288 with 1 Axes>"
      ]
     },
     "metadata": {
      "needs_background": "light"
     },
     "output_type": "display_data"
    }
   ],
   "source": [
    "accidents_gdf.plot()"
   ]
  },
  {
   "cell_type": "markdown",
   "metadata": {},
   "source": [
    "### Intersects"
   ]
  },
  {
   "cell_type": "code",
   "execution_count": 17,
   "metadata": {},
   "outputs": [],
   "source": [
    "#berlin_gdf.geometry = berlin_gdf.buffer(0.0001)\n",
    "#accidents_gdf.geometry = accidents_gdf.buffer(0.0001)\n",
    "accidents_gdf.geometry = accidents_gdf.buffer(0.0000001)"
   ]
  },
  {
   "cell_type": "code",
   "execution_count": 18,
   "metadata": {},
   "outputs": [],
   "source": [
    "merge_gdf = gpd.sjoin(accidents_gdf, berlin_gdf, how=\"inner\", op='intersects')"
   ]
  },
  {
   "cell_type": "code",
   "execution_count": 19,
   "metadata": {},
   "outputs": [],
   "source": [
    "#merge_gdf.to_file(\"../data/output/berlin_roads_and_accidents.geojson\", driver='GeoJSON', encoding='utf8')\n",
    "merge_gdf.to_file(\"../data/output/berlin_roads_and_accidents.geojson\", driver='GeoJSON')"
   ]
  }
 ],
 "metadata": {
  "file_extension": ".py",
  "kernelspec": {
   "display_name": "Python 3",
   "language": "python",
   "name": "python3"
  },
  "language_info": {
   "codemirror_mode": {
    "name": "ipython",
    "version": 3
   },
   "file_extension": ".py",
   "mimetype": "text/x-python",
   "name": "python",
   "nbconvert_exporter": "python",
   "pygments_lexer": "ipython3",
   "version": "3.7.6"
  },
  "mimetype": "text/x-python",
  "name": "python",
  "npconvert_exporter": "python",
  "pygments_lexer": "ipython3",
  "version": 3
 },
 "nbformat": 4,
 "nbformat_minor": 2
}

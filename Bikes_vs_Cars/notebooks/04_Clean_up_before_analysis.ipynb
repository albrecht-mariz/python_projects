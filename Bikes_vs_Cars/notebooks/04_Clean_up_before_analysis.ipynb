{
 "cells": [
  {
   "cell_type": "code",
   "execution_count": 1,
   "metadata": {},
   "outputs": [],
   "source": [
    "import pandas as pd\n",
    "import geopandas as gpd\n",
    "import numpy as np"
   ]
  },
  {
   "cell_type": "code",
   "execution_count": 2,
   "metadata": {},
   "outputs": [],
   "source": [
    "df = pd.read_csv(\"../data/output/berlin_accidents_maxspeed_03.csv\", sep=\",\")"
   ]
  },
  {
   "cell_type": "code",
   "execution_count": 3,
   "metadata": {},
   "outputs": [
    {
     "data": {
      "text/plain": [
       "OBJECTID        0\n",
       "UMONAT          0\n",
       "USTUNDE         0\n",
       "UWOCHENTAG      0\n",
       "UKATEGORIE      0\n",
       "UART            0\n",
       "UTYP1           0\n",
       "ULICHTVERH      0\n",
       "STRZUSTAND      0\n",
       "IstPKW          0\n",
       "IstKrad         0\n",
       "IstGkfz         0\n",
       "IstFuss         0\n",
       "IstSonstige     0\n",
       "maxspeed       33\n",
       "fclass         33\n",
       "oneway         33\n",
       "osm_id         33\n",
       "District        0\n",
       "Street          0\n",
       "PostalCode      0\n",
       "bridge         33\n",
       "tunnel         33\n",
       "lat             0\n",
       "lon             0\n",
       "geometry       33\n",
       "dtype: int64"
      ]
     },
     "execution_count": 3,
     "metadata": {},
     "output_type": "execute_result"
    }
   ],
   "source": [
    "#osm base: na = 6\n",
    "df.isna().sum()"
   ]
  },
  {
   "cell_type": "code",
   "execution_count": 4,
   "metadata": {},
   "outputs": [],
   "source": [
    "df['street_unique'] = df['District'] + \" \" + df['Street'] + \" \" + df['PostalCode'].astype(str)"
   ]
  },
  {
   "cell_type": "code",
   "execution_count": 5,
   "metadata": {},
   "outputs": [
    {
     "data": {
      "text/plain": [
       "0           Niederschönhausen Dietzgenstraße 13156\n",
       "1        Prenzlauer Berg Greifswalder Straße 10405\n",
       "2           Friedrichshain Frankfurter Allee 10247\n",
       "3                     Mitte Leipziger Straße 10117\n",
       "4          Niederschöneweide Schnellerstraße 12439\n",
       "                           ...                    \n",
       "5187                             Neukölln na 12053\n",
       "5188    Friedrichsfelde Rummelsburger Straße 10315\n",
       "5189                       Charlottenburg na 10587\n",
       "5190                 Weißensee Roelckestraße 13088\n",
       "5191              Fennpfuhl Storkower Straße 10369\n",
       "Name: street_unique, Length: 5192, dtype: object"
      ]
     },
     "execution_count": 5,
     "metadata": {},
     "output_type": "execute_result"
    }
   ],
   "source": [
    "df['street_unique']"
   ]
  },
  {
   "cell_type": "code",
   "execution_count": 6,
   "metadata": {},
   "outputs": [],
   "source": [
    "#create the alone variable based on road users\n",
    "def alone_crash(row):\n",
    "    if row['IstPKW'] != 0: return 0               \n",
    "    elif row['IstKrad'] !=0: return 0      \n",
    "    elif row['IstGkfz'] !=0: return 0           \n",
    "    elif row['IstFuss'] !=0: return 0\n",
    "    elif row['IstSonstige'] !=0: return 0      \n",
    "    else: return 1                        \n",
    "df['alone'] = df.apply(alone_crash, axis=1)"
   ]
  },
  {
   "cell_type": "code",
   "execution_count": 7,
   "metadata": {},
   "outputs": [],
   "source": [
    "#create the not_alone variable based on road users\n",
    "def not_alone_crash(row):\n",
    "    if row['IstPKW'] != 0: return 1               \n",
    "    elif row['IstKrad'] !=0: return 1      \n",
    "    elif row['IstGkfz'] !=0: return 1           \n",
    "    elif row['IstFuss'] !=0: return 1\n",
    "    elif row['IstSonstige'] !=0: return 1      \n",
    "    else: return 0                        \n",
    "df['not_alone'] = df.apply(not_alone_crash, axis=1)"
   ]
  },
  {
   "cell_type": "code",
   "execution_count": 8,
   "metadata": {},
   "outputs": [],
   "source": [
    "#Data inconsistency: accidents where df.alone == 1 and df.UTYP1 == 6 (accident with other road user). \n",
    "#Considered as accident with cars \n",
    "df['IstPKW'] = np.where((df.alone == 1) & (df.UTYP1 == 6), 1 ,df.IstPKW)\n",
    "df['alone'] = np.where((df.alone == 1) & (df.UTYP1 == 6), 0 ,df.alone)"
   ]
  },
  {
   "cell_type": "code",
   "execution_count": 9,
   "metadata": {
    "scrolled": true
   },
   "outputs": [
    {
     "data": {
      "text/plain": [
       "0    4706\n",
       "1     486\n",
       "Name: alone, dtype: int64"
      ]
     },
     "execution_count": 9,
     "metadata": {},
     "output_type": "execute_result"
    }
   ],
   "source": [
    "df['alone'].value_counts()"
   ]
  },
  {
   "cell_type": "code",
   "execution_count": 10,
   "metadata": {
    "scrolled": true
   },
   "outputs": [
    {
     "data": {
      "text/plain": [
       "1    3726\n",
       "0    1466\n",
       "Name: IstPKW, dtype: int64"
      ]
     },
     "execution_count": 10,
     "metadata": {},
     "output_type": "execute_result"
    }
   ],
   "source": [
    "df['IstPKW'].value_counts()"
   ]
  },
  {
   "cell_type": "code",
   "execution_count": 11,
   "metadata": {},
   "outputs": [
    {
     "data": {
      "text/plain": [
       "2    1598\n",
       "3    1395\n",
       "5     649\n",
       "6     603\n",
       "7     392\n",
       "1     311\n",
       "4     244\n",
       "Name: UTYP1, dtype: int64"
      ]
     },
     "execution_count": 11,
     "metadata": {},
     "output_type": "execute_result"
    }
   ],
   "source": [
    "df['UTYP1'].value_counts()"
   ]
  },
  {
   "cell_type": "code",
   "execution_count": 12,
   "metadata": {},
   "outputs": [],
   "source": [
    "#UTYP1 == 2 and UTYP1 == 3 are very similar. Both represent accidents in crosses. In UTYP2: 2 contains 3\n",
    "df['UTYP2'] = np.where((df.UTYP1 == 3), 2, df.UTYP1)"
   ]
  },
  {
   "cell_type": "code",
   "execution_count": 13,
   "metadata": {},
   "outputs": [
    {
     "data": {
      "text/plain": [
       "2    2993\n",
       "5     649\n",
       "6     603\n",
       "7     392\n",
       "1     311\n",
       "4     244\n",
       "Name: UTYP2, dtype: int64"
      ]
     },
     "execution_count": 13,
     "metadata": {},
     "output_type": "execute_result"
    }
   ],
   "source": [
    "df['UTYP2'].value_counts()"
   ]
  },
  {
   "cell_type": "code",
   "execution_count": 14,
   "metadata": {},
   "outputs": [],
   "source": [
    "#create a weekend column\n",
    "def weekend_weekday(row):\n",
    "    if row['UWOCHENTAG'] ==1: return 1               \n",
    "    elif row['UWOCHENTAG'] ==7: return 1        \n",
    "    else: return 0                        \n",
    "df['weekend'] = df.apply(weekend_weekday, axis=1)"
   ]
  },
  {
   "cell_type": "code",
   "execution_count": 15,
   "metadata": {},
   "outputs": [],
   "source": [
    "df.to_csv(\"../data/output/berlin_accidents_maxspeed_04.csv\", index=False)"
   ]
  }
 ],
 "metadata": {
  "kernelspec": {
   "display_name": "Python 3",
   "language": "python",
   "name": "python3"
  },
  "language_info": {
   "codemirror_mode": {
    "name": "ipython",
    "version": 3
   },
   "file_extension": ".py",
   "mimetype": "text/x-python",
   "name": "python",
   "nbconvert_exporter": "python",
   "pygments_lexer": "ipython3",
   "version": "3.7.6"
  }
 },
 "nbformat": 4,
 "nbformat_minor": 2
}
